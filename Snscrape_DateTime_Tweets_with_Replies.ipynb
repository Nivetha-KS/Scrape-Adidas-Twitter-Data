{
 "cells": [
  {
   "cell_type": "markdown",
   "id": "41d25185",
   "metadata": {},
   "source": [
    "## Project: scrape Adidas Twitter data based given timeline with replies\n",
    "\n",
    "In this project, I used **snscrape** to get the tweets posted by **@adidas** twitter account in a certain timeframe with replies to each tweet. Twitter has limated options for datawizards and also the other scraping tools/packages(Tweepy, GetOldTweets, Twint, etc.) has limitations like scraping limit, no access to historical data, removal of endpoint as twitter keeps updating its end point support.\n",
    "\n",
    "Using snscrape we can scrape **millions of tweets** based on various criteria(specific keywords, timeframe, etc.)\n"
   ]
  },
  {
   "cell_type": "code",
   "execution_count": null,
   "id": "3a05f317",
   "metadata": {},
   "outputs": [],
   "source": [
    "# Run the pip install command below if you don't already have the library\n",
    "# !pip install snscrape"
   ]
  },
  {
   "cell_type": "code",
   "execution_count": 1,
   "id": "4370b3bf",
   "metadata": {},
   "outputs": [],
   "source": [
    "# import required packages\n",
    "import snscrape.modules.twitter as sntwitter\n",
    "import pandas as pd\n",
    "import datetime as dt"
   ]
  },
  {
   "cell_type": "code",
   "execution_count": 2,
   "id": "bede3005",
   "metadata": {},
   "outputs": [
    {
     "name": "stdout",
     "output_type": "stream",
     "text": [
      "Number of tweets posted by Adidas from 2022-02-01 to 2022-02-28 is: 37\n"
     ]
    }
   ],
   "source": [
    "# Setting variables to be used below\n",
    "start_date = '2022-02-01'\n",
    "end_date = '2022-02-28'\n",
    "from_count=0\n",
    "\n",
    "# Let's fetch last two months data count which is posted from adidas twitter account\n",
    "for i,tweet1 in enumerate(sntwitter.TwitterSearchScraper(f'from:@adidas since:{start_date} until:{end_date}').get_items()):\n",
    "    from_count+=1\n",
    "print(f'Number of tweets posted by Adidas from {start_date} to {end_date} is: {from_count}')                "
   ]
  },
  {
   "cell_type": "code",
   "execution_count": 3,
   "id": "7d5ecb1a",
   "metadata": {},
   "outputs": [
    {
     "name": "stdout",
     "output_type": "stream",
     "text": [
      "Number of tweets posted to Adidas from 2022-02-01 to now is: 10829\n"
     ]
    }
   ],
   "source": [
    "to_count=0\n",
    "\n",
    "# Let's fetch last two months data count which is posted to adidas twitter account\n",
    "for i,tweet1 in enumerate(sntwitter.TwitterSearchScraper(f'to:@adidas since:{start_date}').get_items()):\n",
    "    to_count+=1\n",
    "print(f'Number of tweets posted to Adidas from {start_date} to now is: {to_count}')                "
   ]
  },
  {
   "cell_type": "markdown",
   "id": "2f53c2c5",
   "metadata": {},
   "source": [
    "### Process to extract the tweets with replies:\n",
    "- Fetch the tweets posted by **@adidas** using snscrape TwitterSearchScraper (`from:@adidas`) for the given timeframe(`since:{start_date} until:{end_date}`)\n",
    "- Find the `tweet_id=tweet.id` of the tweets for which the replies are need to be fetched\n",
    "- Using using snscrape TwitterSearchScraper retrieve all the tweets matching (`to:@adidas`) tweets since the start date.\n",
    "- Results matching the `inReplyToTweetId` to `tweet_id` are the replies for the post"
   ]
  },
  {
   "cell_type": "code",
   "execution_count": 4,
   "id": "5a72ee78",
   "metadata": {},
   "outputs": [
    {
     "name": "stdout",
     "output_type": "stream",
     "text": [
      "extracting tweet 1 at 2022-03-02 14:06:53.749261\n",
      "extracting tweet 2 at 2022-03-02 14:13:21.503263\n",
      "extracting tweet 3 at 2022-03-02 14:19:49.564604\n",
      "extracting tweet 4 at 2022-03-02 14:26:18.825692\n",
      "extracting tweet 5 at 2022-03-02 14:32:36.869678\n",
      "extracting tweet 6 at 2022-03-02 14:38:55.247959\n",
      "extracting tweet 7 at 2022-03-02 14:45:14.763720\n",
      "extracting tweet 8 at 2022-03-02 14:51:47.248644\n",
      "extracting tweet 9 at 2022-03-02 14:58:04.369878\n",
      "extracting tweet 10 at 2022-03-02 15:04:20.537379\n",
      "extracting tweet 11 at 2022-03-02 15:10:56.194043\n",
      "extracting tweet 12 at 2022-03-02 15:17:29.037282\n",
      "extracting tweet 13 at 2022-03-02 15:24:06.666086\n",
      "extracting tweet 14 at 2022-03-02 15:30:24.267604\n",
      "extracting tweet 15 at 2022-03-02 15:36:58.189633\n",
      "extracting tweet 16 at 2022-03-02 15:43:34.620566\n",
      "extracting tweet 17 at 2022-03-02 15:50:11.284539\n",
      "extracting tweet 18 at 2022-03-02 15:56:47.888549\n",
      "extracting tweet 19 at 2022-03-02 16:03:06.360990\n",
      "extracting tweet 20 at 2022-03-02 16:09:41.683954\n",
      "extracting tweet 21 at 2022-03-02 16:16:33.069037\n",
      "extracting tweet 22 at 2022-03-02 16:23:16.968592\n",
      "extracting tweet 23 at 2022-03-02 16:29:59.994982\n",
      "extracting tweet 24 at 2022-03-02 16:36:41.075960\n",
      "extracting tweet 25 at 2022-03-02 16:43:01.031241\n",
      "extracting tweet 26 at 2022-03-02 16:49:48.404418\n",
      "extracting tweet 27 at 2022-03-02 16:56:30.039502\n",
      "extracting tweet 28 at 2022-03-02 17:03:16.675651\n",
      "extracting tweet 29 at 2022-03-02 17:09:57.375032\n",
      "extracting tweet 30 at 2022-03-02 17:16:38.863566\n",
      "extracting tweet 31 at 2022-03-02 17:23:24.401629\n",
      "extracting tweet 32 at 2022-03-02 17:30:08.174193\n",
      "extracting tweet 33 at 2022-03-02 17:36:54.889205\n",
      "extracting tweet 34 at 2022-03-02 17:43:40.712486\n",
      "extracting tweet 35 at 2022-03-02 17:50:26.234213\n",
      "extracting tweet 36 at 2022-03-02 17:56:57.472897\n",
      "extracting tweet 37 at 2022-03-02 18:03:18.589934\n"
     ]
    }
   ],
   "source": [
    "# Setting variables to be used below\n",
    "count=0\n",
    "\n",
    "# Creating list to append tweet data to\n",
    "tweets_list = []\n",
    "\n",
    "# Using TwitterSearchScraper to scrape data and append tweets to list\n",
    "for i,tweet in enumerate(sntwitter.TwitterSearchScraper(f'from:@adidas since:{start_date} until:{end_date}').get_items()):\n",
    "    count+=1\n",
    "    print(f'extracting tweet {count} at {dt.datetime.now()}')\n",
    "    reply_texts=[]\n",
    "    for j,tweet2 in enumerate(sntwitter.TwitterSearchScraper('to:@adidas since:2022-01-01').get_items()):\n",
    "        if hasattr(tweet2, 'inReplyToTweetId'):\n",
    "            if(str(tweet2.inReplyToTweetId)==str(tweet.id)):\n",
    "                reply_texts.append(tweet2.content)                \n",
    "    tweets_list.append([tweet.date, tweet.id, tweet.content, tweet.user.username, reply_texts, tweet.url, \n",
    "                        tweet.likeCount, tweet.retweetCount])"
   ]
  },
  {
   "cell_type": "code",
   "execution_count": 5,
   "id": "9b76984b",
   "metadata": {},
   "outputs": [
    {
     "data": {
      "text/html": [
       "<div>\n",
       "<style scoped>\n",
       "    .dataframe tbody tr th:only-of-type {\n",
       "        vertical-align: middle;\n",
       "    }\n",
       "\n",
       "    .dataframe tbody tr th {\n",
       "        vertical-align: top;\n",
       "    }\n",
       "\n",
       "    .dataframe thead th {\n",
       "        text-align: right;\n",
       "    }\n",
       "</style>\n",
       "<table border=\"1\" class=\"dataframe\">\n",
       "  <thead>\n",
       "    <tr style=\"text-align: right;\">\n",
       "      <th></th>\n",
       "      <th>datetime</th>\n",
       "      <th>tweet_Id</th>\n",
       "      <th>tweet_content</th>\n",
       "      <th>username</th>\n",
       "      <th>reply_content</th>\n",
       "      <th>tweet_url</th>\n",
       "      <th>like_count</th>\n",
       "      <th>retweet_count</th>\n",
       "    </tr>\n",
       "  </thead>\n",
       "  <tbody>\n",
       "    <tr>\n",
       "      <th>0</th>\n",
       "      <td>2022-02-22 13:38:03+00:00</td>\n",
       "      <td>1496117082068500480</td>\n",
       "      <td>A limited number of the new adidas TERREX HS1 ...</td>\n",
       "      <td>adidas</td>\n",
       "      <td>[@adidas Why are you still supporting the #Wor...</td>\n",
       "      <td>https://twitter.com/adidas/status/149611708206...</td>\n",
       "      <td>35</td>\n",
       "      <td>4</td>\n",
       "    </tr>\n",
       "    <tr>\n",
       "      <th>1</th>\n",
       "      <td>2022-02-22 13:38:02+00:00</td>\n",
       "      <td>1496117077752664065</td>\n",
       "      <td>Introducing: the adidas TERREX HS1\\n \\nCompose...</td>\n",
       "      <td>adidas</td>\n",
       "      <td>[A limited number of the new adidas TERREX HS1...</td>\n",
       "      <td>https://twitter.com/adidas/status/149611707775...</td>\n",
       "      <td>71</td>\n",
       "      <td>9</td>\n",
       "    </tr>\n",
       "    <tr>\n",
       "      <th>2</th>\n",
       "      <td>2022-02-22 13:38:00+00:00</td>\n",
       "      <td>1496117070504906752</td>\n",
       "      <td>ICYMI: Last year we partnered with Finnish tex...</td>\n",
       "      <td>adidas</td>\n",
       "      <td>[@adidas @SpinnovaPlc Looks interesting 🤔, Int...</td>\n",
       "      <td>https://twitter.com/adidas/status/149611707050...</td>\n",
       "      <td>18</td>\n",
       "      <td>1</td>\n",
       "    </tr>\n",
       "    <tr>\n",
       "      <th>3</th>\n",
       "      <td>2022-02-22 13:38:00+00:00</td>\n",
       "      <td>1496117068864831495</td>\n",
       "      <td>Calling all adventurers, hikers, and nature lo...</td>\n",
       "      <td>adidas</td>\n",
       "      <td>[@adidas adidas, stop being the official brand...</td>\n",
       "      <td>https://twitter.com/adidas/status/149611706886...</td>\n",
       "      <td>107</td>\n",
       "      <td>12</td>\n",
       "    </tr>\n",
       "    <tr>\n",
       "      <th>4</th>\n",
       "      <td>2022-02-14 22:40:22+00:00</td>\n",
       "      <td>1493354457308016651</td>\n",
       "      <td>@Vishy_vish Unfortunately, we're not able to a...</td>\n",
       "      <td>adidas</td>\n",
       "      <td>[]</td>\n",
       "      <td>https://twitter.com/adidas/status/149335445730...</td>\n",
       "      <td>0</td>\n",
       "      <td>0</td>\n",
       "    </tr>\n",
       "  </tbody>\n",
       "</table>\n",
       "</div>"
      ],
      "text/plain": [
       "                   datetime             tweet_Id  \\\n",
       "0 2022-02-22 13:38:03+00:00  1496117082068500480   \n",
       "1 2022-02-22 13:38:02+00:00  1496117077752664065   \n",
       "2 2022-02-22 13:38:00+00:00  1496117070504906752   \n",
       "3 2022-02-22 13:38:00+00:00  1496117068864831495   \n",
       "4 2022-02-14 22:40:22+00:00  1493354457308016651   \n",
       "\n",
       "                                       tweet_content username  \\\n",
       "0  A limited number of the new adidas TERREX HS1 ...   adidas   \n",
       "1  Introducing: the adidas TERREX HS1\\n \\nCompose...   adidas   \n",
       "2  ICYMI: Last year we partnered with Finnish tex...   adidas   \n",
       "3  Calling all adventurers, hikers, and nature lo...   adidas   \n",
       "4  @Vishy_vish Unfortunately, we're not able to a...   adidas   \n",
       "\n",
       "                                       reply_content  \\\n",
       "0  [@adidas Why are you still supporting the #Wor...   \n",
       "1  [A limited number of the new adidas TERREX HS1...   \n",
       "2  [@adidas @SpinnovaPlc Looks interesting 🤔, Int...   \n",
       "3  [@adidas adidas, stop being the official brand...   \n",
       "4                                                 []   \n",
       "\n",
       "                                           tweet_url  like_count  \\\n",
       "0  https://twitter.com/adidas/status/149611708206...          35   \n",
       "1  https://twitter.com/adidas/status/149611707775...          71   \n",
       "2  https://twitter.com/adidas/status/149611707050...          18   \n",
       "3  https://twitter.com/adidas/status/149611706886...         107   \n",
       "4  https://twitter.com/adidas/status/149335445730...           0   \n",
       "\n",
       "   retweet_count  \n",
       "0              4  \n",
       "1              9  \n",
       "2              1  \n",
       "3             12  \n",
       "4              0  "
      ]
     },
     "execution_count": 5,
     "metadata": {},
     "output_type": "execute_result"
    }
   ],
   "source": [
    "# Creating a dataframe from the tweets list above\n",
    "tweets_df = pd.DataFrame(tweets_list, columns=['datetime', 'tweet_Id', 'tweet_content', 'username', 'reply_content', \n",
    "                                               'tweet_url',  'like_count', 'retweet_count'])\n",
    "\n",
    "# Display first 5 entries from dataframe\n",
    "tweets_df.head()    "
   ]
  },
  {
   "cell_type": "code",
   "execution_count": 6,
   "id": "82667de6",
   "metadata": {},
   "outputs": [
    {
     "data": {
      "text/plain": [
       "(37, 8)"
      ]
     },
     "execution_count": 6,
     "metadata": {},
     "output_type": "execute_result"
    }
   ],
   "source": [
    "# Lets check the dataframe size\n",
    "tweets_df.shape"
   ]
  },
  {
   "cell_type": "code",
   "execution_count": 8,
   "id": "7e5bb8bc",
   "metadata": {},
   "outputs": [],
   "source": [
    "tweets_df.to_csv(path_or_buf = 'data/snscrape_adidas.csv', encoding='utf-8', index=False)"
   ]
  },
  {
   "cell_type": "markdown",
   "id": "8c8b94a3",
   "metadata": {},
   "source": [
    "**References**\n",
    "- https://medium.com/dataseries/how-to-scrape-millions-of-tweets-using-snscrape-195ee3594721\n",
    "- https://github.com/MartinBeckUT/TwitterScraper/"
   ]
  },
  {
   "cell_type": "code",
   "execution_count": null,
   "id": "285103f7",
   "metadata": {},
   "outputs": [],
   "source": []
  }
 ],
 "metadata": {
  "kernelspec": {
   "display_name": "Python 3",
   "language": "python",
   "name": "python3"
  },
  "language_info": {
   "codemirror_mode": {
    "name": "ipython",
    "version": 3
   },
   "file_extension": ".py",
   "mimetype": "text/x-python",
   "name": "python",
   "nbconvert_exporter": "python",
   "pygments_lexer": "ipython3",
   "version": "3.8.8"
  }
 },
 "nbformat": 4,
 "nbformat_minor": 5
}
