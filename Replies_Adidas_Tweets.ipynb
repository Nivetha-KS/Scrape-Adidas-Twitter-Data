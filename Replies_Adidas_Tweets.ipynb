{
 "cells": [
  {
   "cell_type": "markdown",
   "id": "1278978c",
   "metadata": {},
   "source": [
    "## Get Adidas tweets with replies using twitter API Tweepy\n",
    "\n",
    "- Fetch the tweets from **@adidas** using tweepy api user_timeline\n",
    "- Find the `tweet_id=tweet.id` of the tweets for which the replies are need to be fetched\n",
    "- Using tweepi api search retrieve all the tweets matching (`q='to:@adidas'`) tweets\n",
    "- Results matching the `in_reply_to_status_id_str` to `tweet_id` is the replies for the post\n"
   ]
  },
  {
   "cell_type": "code",
   "execution_count": 1,
   "id": "0efaa662",
   "metadata": {},
   "outputs": [],
   "source": [
    "# import required packages\n",
    "import tweepy\n",
    "from tweepy import OAuthHandler\n",
    "import pandas as pd\n",
    "import numpy as np"
   ]
  },
  {
   "cell_type": "code",
   "execution_count": 2,
   "id": "783e11a5",
   "metadata": {},
   "outputs": [],
   "source": [
    "# Twitter API Credentials\n",
    "access_token = '3147900582-iyD6Mlvi2YjdXrM5OQZxAAgZ0y2uO3NlLJkGKVG'\n",
    "access_secret = 'LfEKItqGYoUmBLRAP29ELviAwE8lqiO1WBfny9FtoRip8'\n",
    "consumer_key = 'QvAIXD2iYvJeWyIhcMyA7Inhf'\n",
    "consumer_secret = '0VJkkwkatSmfvez0k8M40G3XPktXCrVz4euxylAB1WCLCisKWX'\n",
    "\n",
    "#create connection with Twitter API\n",
    "auth = tweepy.OAuthHandler(consumer_key, consumer_secret)\n",
    "auth.set_access_token(access_token, access_secret)\n",
    "api = tweepy.API(auth, wait_on_rate_limit=True, wait_on_rate_limit_notify=True)"
   ]
  },
  {
   "cell_type": "code",
   "execution_count": 3,
   "id": "7e3c1a86",
   "metadata": {},
   "outputs": [],
   "source": [
    "# Function to retrieve replies to specific tweet\n",
    "def get_replies_q(tweet_id, reply_count, reply_texts):\n",
    "    #get the most recent tweets posted for the keyword specified\n",
    "    for tweet in tweepy.Cursor(api.search, q='to:@adidas', result_type='recent', tweet_mode='extended', timeout=999999).items(1000):\n",
    "        if hasattr(tweet, 'in_reply_to_status_id_str'):\n",
    "            # Compare the given tweet id with queries reply to tweet id\n",
    "            if(tweet.in_reply_to_status_id_str==tweet_id):\n",
    "                reply_count+=1\n",
    "                reply_texts.append(tweet.full_text)\n",
    "    return reply_count"
   ]
  },
  {
   "cell_type": "code",
   "execution_count": 4,
   "id": "7fadf5b4",
   "metadata": {},
   "outputs": [],
   "source": [
    "username='adidas'\n",
    "replies = []\n",
    "tweets_list=[]\n",
    "\n",
    "try:\n",
    "    # get the most recent 5 tweets posted from the user specified\n",
    "    tw_obj1 = tweepy.Cursor(api.user_timeline,id=username, tweet_mode='extended',timeout=999999).items(5)\n",
    "    for tweet in tw_obj1:\n",
    "        reply_texts, reply_count=[],0\n",
    "        tweet_url = f\"https://twitter.com/adidas/status/{tweet.id}\"      \n",
    "        # Function call to get replies for the passed tweet id\n",
    "        rep = get_replies_q(str(tweet.id),reply_count,reply_texts)     \n",
    "        # Append the retrieved data to list\n",
    "        tweets_list.append([tweet.created_at, tweet.id, tweet.full_text, tweet.user._json['screen_name'], tweet.user._json['name'],\n",
    "                            tweet_url, tweet._json['favorite_count'], tweet._json['retweet_count'], rep, reply_texts])\n",
    "        \n",
    "    # Create new dataframe for the collected tweet data\n",
    "    tweets_df = pd.DataFrame(tweets_list,columns = ['created_at','tweet_id', 'tweet_text', 'screen_name', 'name', 'tweet_url',\n",
    "                                                    'favorite_count', 'retweet_count','reply_count','replies_list'])\n",
    "    \n",
    "except BaseException as e:\n",
    "    print('something went wrong', str(e))"
   ]
  },
  {
   "cell_type": "code",
   "execution_count": 5,
   "id": "9314f2df",
   "metadata": {},
   "outputs": [
    {
     "data": {
      "text/html": [
       "<div>\n",
       "<style scoped>\n",
       "    .dataframe tbody tr th:only-of-type {\n",
       "        vertical-align: middle;\n",
       "    }\n",
       "\n",
       "    .dataframe tbody tr th {\n",
       "        vertical-align: top;\n",
       "    }\n",
       "\n",
       "    .dataframe thead th {\n",
       "        text-align: right;\n",
       "    }\n",
       "</style>\n",
       "<table border=\"1\" class=\"dataframe\">\n",
       "  <thead>\n",
       "    <tr style=\"text-align: right;\">\n",
       "      <th></th>\n",
       "      <th>created_at</th>\n",
       "      <th>tweet_id</th>\n",
       "      <th>tweet_text</th>\n",
       "      <th>screen_name</th>\n",
       "      <th>name</th>\n",
       "      <th>tweet_url</th>\n",
       "      <th>favorite_count</th>\n",
       "      <th>retweet_count</th>\n",
       "      <th>reply_count</th>\n",
       "      <th>replies_list</th>\n",
       "    </tr>\n",
       "  </thead>\n",
       "  <tbody>\n",
       "    <tr>\n",
       "      <th>0</th>\n",
       "      <td>2022-02-25 22:17:47</td>\n",
       "      <td>1497335041214590981</td>\n",
       "      <td>RT @adidasoriginals: adidas x Gucci \\n\\n#adida...</td>\n",
       "      <td>adidas</td>\n",
       "      <td>adidas</td>\n",
       "      <td>https://twitter.com/adidas/status/149733504121...</td>\n",
       "      <td>0</td>\n",
       "      <td>4736</td>\n",
       "      <td>0</td>\n",
       "      <td>[]</td>\n",
       "    </tr>\n",
       "    <tr>\n",
       "      <th>1</th>\n",
       "      <td>2022-02-22 13:38:03</td>\n",
       "      <td>1496117082068500480</td>\n",
       "      <td>A limited number of the new adidas TERREX HS1 ...</td>\n",
       "      <td>adidas</td>\n",
       "      <td>adidas</td>\n",
       "      <td>https://twitter.com/adidas/status/149611708206...</td>\n",
       "      <td>34</td>\n",
       "      <td>4</td>\n",
       "      <td>5</td>\n",
       "      <td>[@adidas If you have trade  in Russia, we ask ...</td>\n",
       "    </tr>\n",
       "    <tr>\n",
       "      <th>2</th>\n",
       "      <td>2022-02-22 13:38:02</td>\n",
       "      <td>1496117077752664065</td>\n",
       "      <td>Introducing: the adidas TERREX HS1\\n \\nCompose...</td>\n",
       "      <td>adidas</td>\n",
       "      <td>adidas</td>\n",
       "      <td>https://twitter.com/adidas/status/149611707775...</td>\n",
       "      <td>68</td>\n",
       "      <td>8</td>\n",
       "      <td>5</td>\n",
       "      <td>[@adidas As a tier 1 sponsor of FIFA, what do ...</td>\n",
       "    </tr>\n",
       "    <tr>\n",
       "      <th>3</th>\n",
       "      <td>2022-02-22 13:38:00</td>\n",
       "      <td>1496117070504906752</td>\n",
       "      <td>ICYMI: Last year we partnered with Finnish tex...</td>\n",
       "      <td>adidas</td>\n",
       "      <td>adidas</td>\n",
       "      <td>https://twitter.com/adidas/status/149611707050...</td>\n",
       "      <td>18</td>\n",
       "      <td>1</td>\n",
       "      <td>3</td>\n",
       "      <td>[@adidas @SpinnovaPlc Looks interesting 🤔, @ad...</td>\n",
       "    </tr>\n",
       "    <tr>\n",
       "      <th>4</th>\n",
       "      <td>2022-02-22 13:38:00</td>\n",
       "      <td>1496117068864831495</td>\n",
       "      <td>Calling all adventurers, hikers, and nature lo...</td>\n",
       "      <td>adidas</td>\n",
       "      <td>adidas</td>\n",
       "      <td>https://twitter.com/adidas/status/149611706886...</td>\n",
       "      <td>102</td>\n",
       "      <td>11</td>\n",
       "      <td>15</td>\n",
       "      <td>[@adidas If you have trade  in Russia, we ask ...</td>\n",
       "    </tr>\n",
       "  </tbody>\n",
       "</table>\n",
       "</div>"
      ],
      "text/plain": [
       "           created_at             tweet_id  \\\n",
       "0 2022-02-25 22:17:47  1497335041214590981   \n",
       "1 2022-02-22 13:38:03  1496117082068500480   \n",
       "2 2022-02-22 13:38:02  1496117077752664065   \n",
       "3 2022-02-22 13:38:00  1496117070504906752   \n",
       "4 2022-02-22 13:38:00  1496117068864831495   \n",
       "\n",
       "                                          tweet_text screen_name    name  \\\n",
       "0  RT @adidasoriginals: adidas x Gucci \\n\\n#adida...      adidas  adidas   \n",
       "1  A limited number of the new adidas TERREX HS1 ...      adidas  adidas   \n",
       "2  Introducing: the adidas TERREX HS1\\n \\nCompose...      adidas  adidas   \n",
       "3  ICYMI: Last year we partnered with Finnish tex...      adidas  adidas   \n",
       "4  Calling all adventurers, hikers, and nature lo...      adidas  adidas   \n",
       "\n",
       "                                           tweet_url  favorite_count  \\\n",
       "0  https://twitter.com/adidas/status/149733504121...               0   \n",
       "1  https://twitter.com/adidas/status/149611708206...              34   \n",
       "2  https://twitter.com/adidas/status/149611707775...              68   \n",
       "3  https://twitter.com/adidas/status/149611707050...              18   \n",
       "4  https://twitter.com/adidas/status/149611706886...             102   \n",
       "\n",
       "   retweet_count  reply_count  \\\n",
       "0           4736            0   \n",
       "1              4            5   \n",
       "2              8            5   \n",
       "3              1            3   \n",
       "4             11           15   \n",
       "\n",
       "                                        replies_list  \n",
       "0                                                 []  \n",
       "1  [@adidas If you have trade  in Russia, we ask ...  \n",
       "2  [@adidas As a tier 1 sponsor of FIFA, what do ...  \n",
       "3  [@adidas @SpinnovaPlc Looks interesting 🤔, @ad...  \n",
       "4  [@adidas If you have trade  in Russia, we ask ...  "
      ]
     },
     "execution_count": 5,
     "metadata": {},
     "output_type": "execute_result"
    }
   ],
   "source": [
    "tweets_df.head()"
   ]
  },
  {
   "cell_type": "code",
   "execution_count": 6,
   "id": "f5b000bf",
   "metadata": {},
   "outputs": [
    {
     "data": {
      "text/plain": [
       "0                                                                                                                                                                                                                                                                                                                                                                                                                                                                                                                                                                                                                                                                                                                                                                                                                                                                                                                                                                                                                                                                                                                                                                                                                                                                                                                                                                                                                                                                                                                                                                                                                                                                                                                                                                                                                                                                                                                                                                                                                                                                                                                                                                                                                                                                                                                                                                                                                          []\n",
       "1                                                                                                                                                                                                                                                                                                                                                                                                                                                                                                                                                                                                                                                                                                                                                                                                                                                                                                                                                                                                                                                                                                                                                                                                                                                                                                                                                                                                                                                                                                                                                                                                                                                [@adidas If you have trade  in Russia, we ask you to stop selling fashion to the aggressor state. This country spilt blood in Ukraine and killed 352 peaceful citizens, 14 of them are minors.  This country doesn’t deserve to wear your name. \\n\\n#NoBrandsForTheAggressor, @adidas Hey, @adidas are you ok with the fact, that organization that you sponsor - FIFA - don't want to expel team that represents the country which is bombing civilians, killing people and invading a sovereign country? Country which all the western world is hitting with sanctions?, @adidas Why are you still supporting the #WorldCup with Russia still involved in the tournament? #StandWithUkraine, @adidas Gonna try to cop these!!, @adidas Can’t wait ! This is amazing ! \\\\\\]\n",
       "2                                                                                                                                                                                                                                                                                                                                                                                                                                                                                                                                                                                                                                                                                                                                                                                                                                                                                                                                                                                                                                                                                                                                                                                                                                                                                                                                                                                                                                                                                                                    [@adidas As a tier 1 sponsor of FIFA, what do you make of FIFA’s continuing support for Putin’s murderous regime? Will your brand be lining the side of the pitch at Russia’s next game? Image as the Russian players celebrate a goal right next to your brand - make a stand! Cancel your ties!, @adidas You guys should enter the usership-economy to the very fullest extent, by offering Adidas-subscriptions with a wide spectrum of packages.\\n\\nhttps://t.co/RuN7D1mQK9, @adidas Your prayers are not enough.\\n🇺🇦🇺🇦🇺🇦 DONT STARE. HELP UKRAINE. 🇺🇦🇺🇦🇺🇦 #dont_stare_help_ukraine, @adidas 🇺🇦🇺🇦🇺🇦DON’T STARE. HELP UKRAINE 🇺🇦🇺🇦🇺🇦\\n\\nRUSSIAN FORCES IS TRYING TO SEIZE CHORNOBYL NUCLEAR PLANT IN ORDER TO MAKE ECOLOGICAL DISASTER, A limited number of the new adidas TERREX HS1 will be made commercially available on https://t.co/obaGevq34N and in other selected retail outlets from July.]\n",
       "3                                                                                                                                                                                                                                                                                                                                                                                                                                                                                                                                                                                                                                                                                                                                                                                                                                                                                                                                                                                                                                                                                                                                                                                                                                                                                                                                                                                                                                                                                                                                                                                                                                                                                                                                                                                             [@adidas @SpinnovaPlc Looks interesting 🤔, @adidas @SpinnovaPlc Luxury Rally Club is hosting an historic Rally in Sonoma Valley, May 22-25th, featuring the iconic Carrera GT. This will be one of the largest collections of this one-of-a-kind supercar, and we’re reaching out to potential sponsors and participants, Introducing: the adidas TERREX HS1\\n \\nComposed of a minimum of 25% SPINNOVA wood-based fibres and 75% organic cotton, the adidas TERREX HS1 is a unisex mid-layer piece of multi-functional gear that works on the trails and then rolls up into its hood for easy storage🤯 https://t.co/3DmbVxU9EH]\n",
       "4    [@adidas If you have trade  in Russia, we ask you to stop selling fashion to the aggressor state. This country spilt blood in Ukraine and killed 352 peaceful citizens, 14 of them are minors.  This country doesn’t deserve to wear your name. \\n\\n#NoBrandsForTheAggressor, @adidas As a tier 1 sponsor of FIFA, what do you make of FIFA’s continuing support for Putin’s murderous regime? Will your brand be lining the side of the pitch at Russia’s next game? Image as the Russian players celebrate a goal right next to your brand - make a stand! Cancel your ties!, @adidas Only @Nike. You are sponsoring @FIFAcom, putin's close friends. Awar criminal. An aggressor on a small, poor country. An aggressor who kills civilians and shoots children. russia should be excluded from international competitions. Otherwise the boycott of @FIFAcom sponsors!!!!!!!, @adidas Holding on to my ||| a little longer hoping for you to halt all sales in Russia., @adidas Are you ok with the fact, that organization that you sponsor - FIFA - don't want to expel team that represents the country which is bombing civilians, killing people and invading a sovereign country?, @adidas If @FIFAWorldCup proceeds with Russia as a participant and @adidas as the sponsor I swear to never in my life wear anything from Adidas ever again., @adidas Hey, @adidas are you ok with the fact, that organization that you sponsor - FIFA - don't want to expel team that represents the country which is bombing civilians, killing people and invading a sovereign country? Country which all the western world is hitting with sanctions?, @adidas 🇺🇦🇺🇦🇺🇦DON’T STARE. HELP UKRAINE 🇺🇦🇺🇦🇺🇦\\n\\nRUSSIAN FORCES IS TRYING TO SEIZE CHORNOBYL NUCLEAR PLANT IN ORDER TO MAKE ECOLOGICAL DISASTER, @adidas Your prayers are not enough.\\n🇺🇦🇺🇦🇺🇦 DONT STARE. HELP UKRAINE. 🇺🇦🇺🇦🇺🇦, @adidas How about stop sales to Russia this instant. Wearing two stripes will kill their spirit., @adidas @RadioCacaNFT  @USMverse  @JazChain  #RACA  #RacaArmy, @adidas @marjesonsantil8, @adidas I thought this was about to be about some dope af hiking boots!! scam! j/k but wen recyclable hiking boots?, @adidas Yes, ICYMI: Last year we partnered with Finnish textile material company @SpinnovaPlc as part of our commitment to help end plastic waste. Today, we are excited to unveil the first official product….]\n",
       "Name: replies_list, dtype: object"
      ]
     },
     "execution_count": 6,
     "metadata": {},
     "output_type": "execute_result"
    }
   ],
   "source": [
    "# Lets look at the retrieved replies\n",
    "pd.set_option('display.max_colwidth', None)\n",
    "tweets_df.replies_list"
   ]
  },
  {
   "cell_type": "code",
   "execution_count": 7,
   "id": "94c0a97b",
   "metadata": {},
   "outputs": [
    {
     "data": {
      "text/plain": [
       "['@adidas As a tier 1 sponsor of FIFA, what do you make of FIFA’s continuing support for Putin’s murderous regime? Will your brand be lining the side of the pitch at Russia’s next game? Image as the Russian players celebrate a goal right next to your brand - make a stand! Cancel your ties!',\n",
       " '@adidas You guys should enter the usership-economy to the very fullest extent, by offering Adidas-subscriptions with a wide spectrum of packages.\\n\\nhttps://t.co/RuN7D1mQK9',\n",
       " '@adidas Your prayers are not enough.\\n🇺🇦🇺🇦🇺🇦 DONT STARE. HELP UKRAINE. 🇺🇦🇺🇦🇺🇦 #dont_stare_help_ukraine',\n",
       " '@adidas 🇺🇦🇺🇦🇺🇦DON’T STARE. HELP UKRAINE 🇺🇦🇺🇦🇺🇦\\n\\nRUSSIAN FORCES IS TRYING TO SEIZE CHORNOBYL NUCLEAR PLANT IN ORDER TO MAKE ECOLOGICAL DISASTER',\n",
       " 'A limited number of the new adidas TERREX HS1 will be made commercially available on https://t.co/obaGevq34N and in other selected retail outlets from July.']"
      ]
     },
     "execution_count": 7,
     "metadata": {},
     "output_type": "execute_result"
    }
   ],
   "source": [
    "# Lets look at the retrieved replies specific tweet\n",
    "pd.set_option('display.max_colwidth', None)\n",
    "tweets_df.replies_list[2]"
   ]
  },
  {
   "cell_type": "code",
   "execution_count": 10,
   "id": "3831c2ef",
   "metadata": {},
   "outputs": [],
   "source": [
    "# Store the dataset to csv\n",
    "tweets_df.to_csv(path_or_buf = 'data/adidas.csv', encoding='utf-8', index=False)"
   ]
  },
  {
   "cell_type": "code",
   "execution_count": null,
   "id": "aa768f68",
   "metadata": {},
   "outputs": [],
   "source": []
  }
 ],
 "metadata": {
  "kernelspec": {
   "display_name": "Python 3",
   "language": "python",
   "name": "python3"
  },
  "language_info": {
   "codemirror_mode": {
    "name": "ipython",
    "version": 3
   },
   "file_extension": ".py",
   "mimetype": "text/x-python",
   "name": "python",
   "nbconvert_exporter": "python",
   "pygments_lexer": "ipython3",
   "version": "3.8.8"
  }
 },
 "nbformat": 4,
 "nbformat_minor": 5
}
